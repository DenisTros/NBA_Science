{
 "cells": [
  {
   "cell_type": "code",
   "execution_count": 1,
   "metadata": {},
   "outputs": [],
   "source": [
    "import sys\n",
    "sys.path.insert(0, '../')"
   ]
  },
  {
   "cell_type": "code",
   "execution_count": 2,
   "metadata": {},
   "outputs": [
    {
     "data": {
      "text/plain": [
       "'c:\\\\Users\\\\denis\\\\anaconda3\\\\envs\\\\ucm\\\\python.exe'"
      ]
     },
     "execution_count": 2,
     "metadata": {},
     "output_type": "execute_result"
    }
   ],
   "source": [
    "sys.executable"
   ]
  },
  {
   "cell_type": "markdown",
   "metadata": {},
   "source": [
    "# Libraries"
   ]
  },
  {
   "cell_type": "code",
   "execution_count": 2,
   "metadata": {},
   "outputs": [],
   "source": [
    "import pandas as pd\n",
    "import matplotlib.pyplot as plt\n",
    "import seaborn as sns\n",
    "import numpy as np\n",
    "\n",
    "from urllib.request import urlopen\n",
    "from bs4 import BeautifulSoup"
   ]
  },
  {
   "cell_type": "code",
   "execution_count": 3,
   "metadata": {},
   "outputs": [],
   "source": [
    "from src.scrapper import scrape_nba_finals, scrape_NBA_team_data"
   ]
  },
  {
   "cell_type": "markdown",
   "metadata": {},
   "source": [
    "# Get data"
   ]
  },
  {
   "cell_type": "markdown",
   "metadata": {},
   "source": [
    "**Example NBA finals**"
   ]
  },
  {
   "cell_type": "code",
   "execution_count": 4,
   "metadata": {},
   "outputs": [
    {
     "data": {
      "text/html": [
       "<div>\n",
       "<style scoped>\n",
       "    .dataframe tbody tr th:only-of-type {\n",
       "        vertical-align: middle;\n",
       "    }\n",
       "\n",
       "    .dataframe tbody tr th {\n",
       "        vertical-align: top;\n",
       "    }\n",
       "\n",
       "    .dataframe thead th {\n",
       "        text-align: right;\n",
       "    }\n",
       "</style>\n",
       "<table border=\"1\" class=\"dataframe\">\n",
       "  <thead>\n",
       "    <tr style=\"text-align: right;\">\n",
       "      <th></th>\n",
       "      <th>Year</th>\n",
       "      <th>Lg</th>\n",
       "      <th>Champion</th>\n",
       "      <th>Runner-Up</th>\n",
       "      <th>Finals MVP</th>\n",
       "      <th></th>\n",
       "      <th>Points</th>\n",
       "      <th>Rebounds</th>\n",
       "      <th>Assists</th>\n",
       "      <th>Win Shares</th>\n",
       "    </tr>\n",
       "  </thead>\n",
       "  <tbody>\n",
       "    <tr>\n",
       "      <th>0</th>\n",
       "      <td>2023</td>\n",
       "      <td>NBA</td>\n",
       "      <td>Denver Nuggets</td>\n",
       "      <td>Miami Heat</td>\n",
       "      <td>N. Jokić</td>\n",
       "      <td></td>\n",
       "      <td>N. Jokić (600)</td>\n",
       "      <td>N. Jokić (269)</td>\n",
       "      <td>N. Jokić (190)</td>\n",
       "      <td>N. Jokić (5.0)</td>\n",
       "    </tr>\n",
       "    <tr>\n",
       "      <th>1</th>\n",
       "      <td>2022</td>\n",
       "      <td>NBA</td>\n",
       "      <td>Golden State Warriors</td>\n",
       "      <td>Boston Celtics</td>\n",
       "      <td>S. Curry</td>\n",
       "      <td></td>\n",
       "      <td>J. Tatum (615)</td>\n",
       "      <td>A. Horford (214)</td>\n",
       "      <td>J. Tatum (148)</td>\n",
       "      <td>J. Butler (3.8)</td>\n",
       "    </tr>\n",
       "    <tr>\n",
       "      <th>2</th>\n",
       "      <td>2021</td>\n",
       "      <td>NBA</td>\n",
       "      <td>Milwaukee Bucks</td>\n",
       "      <td>Phoenix Suns</td>\n",
       "      <td>G. Antetokounmpo</td>\n",
       "      <td></td>\n",
       "      <td>G. Antetokounmpo (634)</td>\n",
       "      <td>G. Antetokounmpo (269)</td>\n",
       "      <td>J. Holiday (199)</td>\n",
       "      <td>G. Antetokounmpo (3.7)</td>\n",
       "    </tr>\n",
       "    <tr>\n",
       "      <th>3</th>\n",
       "      <td>2020</td>\n",
       "      <td>NBA</td>\n",
       "      <td>Los Angeles Lakers</td>\n",
       "      <td>Miami Heat</td>\n",
       "      <td>L. James</td>\n",
       "      <td></td>\n",
       "      <td>A. Davis (582)</td>\n",
       "      <td>L. James (226)</td>\n",
       "      <td>L. James (184)</td>\n",
       "      <td>A. Davis (4.5)</td>\n",
       "    </tr>\n",
       "    <tr>\n",
       "      <th>4</th>\n",
       "      <td>2019</td>\n",
       "      <td>NBA</td>\n",
       "      <td>Toronto Raptors</td>\n",
       "      <td>Golden State Warriors</td>\n",
       "      <td>K. Leonard</td>\n",
       "      <td></td>\n",
       "      <td>K. Leonard (732)</td>\n",
       "      <td>D. Green (223)</td>\n",
       "      <td>D. Green (187)</td>\n",
       "      <td>K. Leonard (4.9)</td>\n",
       "    </tr>\n",
       "    <tr>\n",
       "      <th>5</th>\n",
       "      <td>2018</td>\n",
       "      <td>NBA</td>\n",
       "      <td>Golden State Warriors</td>\n",
       "      <td>Cleveland Cavaliers</td>\n",
       "      <td>K. Durant</td>\n",
       "      <td></td>\n",
       "      <td>L. James (748)</td>\n",
       "      <td>D. Green (222)</td>\n",
       "      <td>L. James (198)</td>\n",
       "      <td>L. James (5.2)</td>\n",
       "    </tr>\n",
       "    <tr>\n",
       "      <th>6</th>\n",
       "      <td>2017</td>\n",
       "      <td>NBA</td>\n",
       "      <td>Golden State Warriors</td>\n",
       "      <td>Cleveland Cavaliers</td>\n",
       "      <td>K. Durant</td>\n",
       "      <td></td>\n",
       "      <td>L. James (591)</td>\n",
       "      <td>K. Love (191)</td>\n",
       "      <td>L. James (141)</td>\n",
       "      <td>L. James (4.3)</td>\n",
       "    </tr>\n",
       "    <tr>\n",
       "      <th>7</th>\n",
       "      <td>2016</td>\n",
       "      <td>NBA</td>\n",
       "      <td>Cleveland Cavaliers</td>\n",
       "      <td>Golden State Warriors</td>\n",
       "      <td>L. James</td>\n",
       "      <td></td>\n",
       "      <td>K. Thompson (582)</td>\n",
       "      <td>D. Green (228)</td>\n",
       "      <td>R. Westbrook (198)</td>\n",
       "      <td>L. James (4.7)</td>\n",
       "    </tr>\n",
       "    <tr>\n",
       "      <th>8</th>\n",
       "      <td>2015</td>\n",
       "      <td>NBA</td>\n",
       "      <td>Golden State Warriors</td>\n",
       "      <td>Cleveland Cavaliers</td>\n",
       "      <td>A. Iguodala</td>\n",
       "      <td></td>\n",
       "      <td>L. James (601)</td>\n",
       "      <td>D. Howard (238)</td>\n",
       "      <td>L. James (169)</td>\n",
       "      <td>S. Curry (3.9)</td>\n",
       "    </tr>\n",
       "    <tr>\n",
       "      <th>9</th>\n",
       "      <td>2014</td>\n",
       "      <td>NBA</td>\n",
       "      <td>San Antonio Spurs</td>\n",
       "      <td>Miami Heat</td>\n",
       "      <td>K. Leonard</td>\n",
       "      <td></td>\n",
       "      <td>K. Durant (563)</td>\n",
       "      <td>T. Duncan (211)</td>\n",
       "      <td>R. Westbrook (153)</td>\n",
       "      <td>L. James (4.3)</td>\n",
       "    </tr>\n",
       "  </tbody>\n",
       "</table>\n",
       "</div>"
      ],
      "text/plain": [
       "   Year   Lg               Champion              Runner-Up        Finals MVP  \\\n",
       "0  2023  NBA         Denver Nuggets             Miami Heat          N. Jokić   \n",
       "1  2022  NBA  Golden State Warriors         Boston Celtics          S. Curry   \n",
       "2  2021  NBA        Milwaukee Bucks           Phoenix Suns  G. Antetokounmpo   \n",
       "3  2020  NBA     Los Angeles Lakers             Miami Heat          L. James   \n",
       "4  2019  NBA        Toronto Raptors  Golden State Warriors        K. Leonard   \n",
       "5  2018  NBA  Golden State Warriors    Cleveland Cavaliers         K. Durant   \n",
       "6  2017  NBA  Golden State Warriors    Cleveland Cavaliers         K. Durant   \n",
       "7  2016  NBA    Cleveland Cavaliers  Golden State Warriors          L. James   \n",
       "8  2015  NBA  Golden State Warriors    Cleveland Cavaliers       A. Iguodala   \n",
       "9  2014  NBA      San Antonio Spurs             Miami Heat        K. Leonard   \n",
       "\n",
       "                     Points                Rebounds             Assists  \\\n",
       "0            N. Jokić (600)          N. Jokić (269)      N. Jokić (190)   \n",
       "1            J. Tatum (615)        A. Horford (214)      J. Tatum (148)   \n",
       "2    G. Antetokounmpo (634)  G. Antetokounmpo (269)    J. Holiday (199)   \n",
       "3            A. Davis (582)          L. James (226)      L. James (184)   \n",
       "4          K. Leonard (732)          D. Green (223)      D. Green (187)   \n",
       "5            L. James (748)          D. Green (222)      L. James (198)   \n",
       "6            L. James (591)           K. Love (191)      L. James (141)   \n",
       "7         K. Thompson (582)          D. Green (228)  R. Westbrook (198)   \n",
       "8            L. James (601)         D. Howard (238)      L. James (169)   \n",
       "9           K. Durant (563)         T. Duncan (211)  R. Westbrook (153)   \n",
       "\n",
       "               Win Shares  \n",
       "0          N. Jokić (5.0)  \n",
       "1         J. Butler (3.8)  \n",
       "2  G. Antetokounmpo (3.7)  \n",
       "3          A. Davis (4.5)  \n",
       "4        K. Leonard (4.9)  \n",
       "5          L. James (5.2)  \n",
       "6          L. James (4.3)  \n",
       "7          L. James (4.7)  \n",
       "8          S. Curry (3.9)  \n",
       "9          L. James (4.3)  "
      ]
     },
     "execution_count": 4,
     "metadata": {},
     "output_type": "execute_result"
    }
   ],
   "source": [
    "scrape_nba_finals()"
   ]
  },
  {
   "cell_type": "markdown",
   "metadata": {},
   "source": [
    "**Example team season**"
   ]
  },
  {
   "cell_type": "code",
   "execution_count": 4,
   "metadata": {},
   "outputs": [
    {
     "name": "stdout",
     "output_type": "stream",
     "text": [
      "no division: Atlantic Division\n",
      "no division: Central Division\n",
      "no division: Southeast Division\n",
      "no division: Northwest Division\n",
      "no division: Pacific Division\n",
      "no division: Southwest Division\n",
      "no division: Midwest Division\n"
     ]
    },
    {
     "ename": "AttributeError",
     "evalue": "'DataFrame' object has no attribute 'append'",
     "output_type": "error",
     "traceback": [
      "\u001b[1;31m---------------------------------------------------------------------------\u001b[0m",
      "\u001b[1;31mAttributeError\u001b[0m                            Traceback (most recent call last)",
      "\u001b[1;32mc:\\Users\\denis\\Documents\\Repos\\NBA_Science\\notebooks\\nba_eda.ipynb Cell 9\u001b[0m line \u001b[0;36m1\n\u001b[1;32m----> <a href='vscode-notebook-cell:/c%3A/Users/denis/Documents/Repos/NBA_Science/notebooks/nba_eda.ipynb#X31sZmlsZQ%3D%3D?line=0'>1</a>\u001b[0m scrape_NBA_team_data()\n",
      "File \u001b[1;32mc:\\Users\\denis\\Documents\\Repos\\NBA_Science\\notebooks\\..\\src\\scrapper.py:115\u001b[0m, in \u001b[0;36mscrape_NBA_team_data\u001b[1;34m(years)\u001b[0m\n\u001b[0;32m    112\u001b[0m     year_standings[\u001b[39m\"\u001b[39m\u001b[39mLosing_season\u001b[39m\u001b[39m\"\u001b[39m] \u001b[39m=\u001b[39m [\u001b[39m\"\u001b[39m\u001b[39mY\u001b[39m\u001b[39m\"\u001b[39m \u001b[39mif\u001b[39;00m \u001b[39mfloat\u001b[39m(ele) \u001b[39m<\u001b[39m \u001b[39m.5\u001b[39m \u001b[39melse\u001b[39;00m \u001b[39m\"\u001b[39m\u001b[39mN\u001b[39m\u001b[39m\"\u001b[39m \u001b[39mfor\u001b[39;00m ele \u001b[39min\u001b[39;00m year_standings[\u001b[39m\"\u001b[39m\u001b[39mW/L\u001b[39m\u001b[39m%\u001b[39m\u001b[39m\"\u001b[39m]]\n\u001b[0;32m    114\u001b[0m     \u001b[39m# append new dataframe to final_df\u001b[39;00m\n\u001b[1;32m--> 115\u001b[0m     final_df \u001b[39m=\u001b[39m final_df\u001b[39m.\u001b[39;49mappend(year_standings)\n\u001b[0;32m    117\u001b[0m \u001b[39m# export to csv\u001b[39;00m\n\u001b[0;32m    118\u001b[0m \u001b[39mreturn\u001b[39;00m final_df\n",
      "File \u001b[1;32mc:\\Users\\denis\\anaconda3\\envs\\ucm\\lib\\site-packages\\pandas\\core\\generic.py:5989\u001b[0m, in \u001b[0;36mNDFrame.__getattr__\u001b[1;34m(self, name)\u001b[0m\n\u001b[0;32m   5982\u001b[0m \u001b[39mif\u001b[39;00m (\n\u001b[0;32m   5983\u001b[0m     name \u001b[39mnot\u001b[39;00m \u001b[39min\u001b[39;00m \u001b[39mself\u001b[39m\u001b[39m.\u001b[39m_internal_names_set\n\u001b[0;32m   5984\u001b[0m     \u001b[39mand\u001b[39;00m name \u001b[39mnot\u001b[39;00m \u001b[39min\u001b[39;00m \u001b[39mself\u001b[39m\u001b[39m.\u001b[39m_metadata\n\u001b[0;32m   5985\u001b[0m     \u001b[39mand\u001b[39;00m name \u001b[39mnot\u001b[39;00m \u001b[39min\u001b[39;00m \u001b[39mself\u001b[39m\u001b[39m.\u001b[39m_accessors\n\u001b[0;32m   5986\u001b[0m     \u001b[39mand\u001b[39;00m \u001b[39mself\u001b[39m\u001b[39m.\u001b[39m_info_axis\u001b[39m.\u001b[39m_can_hold_identifiers_and_holds_name(name)\n\u001b[0;32m   5987\u001b[0m ):\n\u001b[0;32m   5988\u001b[0m     \u001b[39mreturn\u001b[39;00m \u001b[39mself\u001b[39m[name]\n\u001b[1;32m-> 5989\u001b[0m \u001b[39mreturn\u001b[39;00m \u001b[39mobject\u001b[39;49m\u001b[39m.\u001b[39;49m\u001b[39m__getattribute__\u001b[39;49m(\u001b[39mself\u001b[39;49m, name)\n",
      "\u001b[1;31mAttributeError\u001b[0m: 'DataFrame' object has no attribute 'append'"
     ]
    }
   ],
   "source": [
    "scrape_NBA_team_data()"
   ]
  }
 ],
 "metadata": {
  "kernelspec": {
   "display_name": "base",
   "language": "python",
   "name": "python3"
  },
  "language_info": {
   "codemirror_mode": {
    "name": "ipython",
    "version": 3
   },
   "file_extension": ".py",
   "mimetype": "text/x-python",
   "name": "python",
   "nbconvert_exporter": "python",
   "pygments_lexer": "ipython3",
   "version": "3.8.16"
  },
  "orig_nbformat": 4
 },
 "nbformat": 4,
 "nbformat_minor": 2
}
